{
  "nbformat": 4,
  "nbformat_minor": 0,
  "metadata": {
    "colab": {
      "provenance": []
    },
    "kernelspec": {
      "name": "python3",
      "display_name": "Python 3"
    },
    "language_info": {
      "name": "python"
    }
  },
  "cells": [
    {
      "cell_type": "markdown",
      "source": [
        "1. What are data structures, and why are they important?\n",
        "Data structures are ways to store, organize, and use data efficiently.\n",
        "\n",
        " Some data structures in Python are:\n",
        "\n",
        "- List - stores heterogeneous data, allows change in data(mutable)\n",
        "\n",
        "         Example: [\"simar\",1,2,3,[4,5,6]]\n",
        "\n",
        "- Tuple - stores ordered data, does not allow change in data(immutable)\n",
        "\n",
        "         Example - (1,2,3,4)\n",
        "\n",
        "- Dictionary - stores data in the form of key-value pairs.\n",
        "\n",
        "         Example - {\"name\": \"simar\",\"age\": 20}\n",
        "\n",
        "- Sets - unordered data, do not allow duplicate items.\n",
        "\n",
        "         Example - {1,2,3,4}\n",
        "\n",
        " Importance of Data Structures:\n",
        "\n",
        " Code readability - Using data structures in a program makes it more readable because the program becomes more organized and easy to understand.\n",
        "\n",
        " Performance - Use of the right data structure makes the program faster.\n",
        "\n",
        " Efficient Data management - They let us manage a large amount of data in a structured way.\n",
        "\n"
      ],
      "metadata": {
        "id": "22Upao2f_kpm"
      }
    },
    {
      "cell_type": "markdown",
      "source": [
        "2.  Explain the difference between mutable and immutable data types with examples?\n",
        "Mutable Data types -\n",
        "\n",
        " Objects that can be changed after creation(add data, modify data).\n",
        "\n",
        " Example - Lists, Dictionary, Set.\n",
        "\n",
        " EXAMPLE -\n",
        "```python\n",
        "my_list = [1,2,3,5]\n",
        "my_list.append(99)\n",
        "print(my_list)\n",
        "```\n",
        "Immutable Data types -\n",
        "\n",
        " Objects cannot be change after creation. New memory is created if we try to do changes in the data.\n",
        "\n",
        " Example - Tuple, String etc.\n",
        "```python\n",
        "my_tuple = (1,2,3,4)\n",
        "my_tuple[0] = 99\n",
        "print(my_tuple)\n",
        "Output -\n",
        "ERROR!\n",
        "Traceback (most recent call last):\n",
        "  File \"<main.py>\", line 2, in <module>\n",
        "TypeError: 'tuple' object does not support item assignment\n"
      ],
      "metadata": {
        "id": "uPQfHGjqVG8h"
      }
    },
    {
      "cell_type": "markdown",
      "source": [
        "3.  What are the main differences between lists and tuples in Python?\n",
        "\n",
        "LIST -\n",
        "\n",
        "- Lists are mutable, can be changed after creation(modifying data, removing data).\n",
        "- Defined with square brackets [].\n",
        "- Lists are used in cases where we need to change the item frequently\n",
        "  (Grocery list, Shopping cart).\n",
        "- Lists are slower in performance because it is flexible.\n",
        "- Lists are more prone to errors because they are mutable due to which unexpected changes can happen.\n",
        "- Consume more memory.\n",
        "\n",
        "TUPLE -\n",
        "- Tuples are immutable, cannot be changed after creation.\n",
        "- Defined with parentheses ().\n",
        "- Used in cases where data should not be changed(School ID, coordinates).\n",
        "- Tuples are faster in performance because it is fixed.\n",
        "- Being immutable, tuples are less prone to errors.\n",
        "- Consume less memory.\n"
      ],
      "metadata": {
        "id": "HcL7OurIatxH"
      }
    },
    {
      "cell_type": "markdown",
      "source": [
        "4.  Describe how dictionaries store data?\n",
        "- Dictiionaries store value in the form of key-value pairs.\n",
        "\n",
        "- Each key is unique.\n",
        "- Each key is mapped to a value.\n",
        "- Keys in dictionaries are Case sensitive.\n",
        "- Keys must be immutable.\n",
        "\n",
        "\n"
      ],
      "metadata": {
        "id": "qES0_vvUdPzJ"
      }
    },
    {
      "cell_type": "markdown",
      "source": [
        "5. Why might you use a set instead of a list in Python?\n",
        "\n",
        "- NO DUPLICATES - Sets do not allow duplicate items. We can use sets where we don't want two items to recur.\n",
        "\n",
        "- FAST CHECKING - Finding if an item exists or not, we can use Sets because sets are quicker in finding the existence of an element than a list.\n",
        "\n",
        "- MATHS OPERATION - Sets can easily do maths operations such as union, intersection.\n",
        "\n",
        "- NO ORDER NEEDED - Sets can be used when the order of elements does not matter.\n"
      ],
      "metadata": {
        "id": "MNePvCdYgsp5"
      }
    },
    {
      "cell_type": "markdown",
      "source": [
        "6. What is a string in Python, and how is it different from a list?\n",
        "\n",
        "String -\n",
        "\n",
        "String in Python is a sequence of characters.\n",
        "\n",
        "Strings are enclosed in either double quotes or single quotes.\n",
        "\n",
        "Strings are immutable, we cannot do item assignment in string.\n",
        "\n",
        "String can store characters only.\n",
        "\n",
        "``` python\n",
        "my_string = \"simar\"\n",
        "my_string = 'simar'\n",
        "```\n",
        "List -\n",
        "\n",
        "Lists are mutable, ordered collection of items.\n",
        "\n",
        "Lists are enclosed in square brackets [].\n",
        "\n",
        "Lists are mutable(modify data, update data, remove data).\n",
        "\n",
        "Lists can store items of any data type(integer,float,list inside a list).\n",
        "\n",
        "```python\n",
        "my_list = [1,3,4,['simar',2]]\n",
        "```"
      ],
      "metadata": {
        "id": "MAGC5qtGj8Q2"
      }
    },
    {
      "cell_type": "markdown",
      "source": [
        "7. How do tuples ensure data integrity in Python?\n",
        "\n",
        "Immutability - Tuples are immutable by nature, they do not allow modification or removal of items once created.\n",
        "```python\n",
        "my_tuple = (1,2,4,5)\n",
        "my_tuple[0] = 99\n",
        "print(my_tuple)\n",
        "Output -\n",
        "ERROR!\n",
        "Traceback (most recent call last):\n",
        "  File \"<main.py>\", line 2, in <module>\n",
        "TypeError: 'tuple' object does not support item assignment\n",
        "```\n",
        "Chances of Error - Tuples are less prone to errors, and unexpected changes are not possible because they are immutable in nature.\n",
        "\n",
        "\n",
        "Safe as dictionary keys - Their immutability allows them to be used as keys in a dictionary because unexpected changes cannot happen.\n",
        "\n",
        "Reliable data storage - Tuples are fixed in nature, which ensures data stays the same throughout the program.\n",
        "\n"
      ],
      "metadata": {
        "id": "ZBUoNuc5ol42"
      }
    },
    {
      "cell_type": "markdown",
      "source": [
        "8. What is a hash table, and how does it relate to dictionaries in Python?\n",
        "\n",
        "- Hash table is a structure that stores data in form of key-value pairs.\n",
        "\n",
        "- It uses hash function which converts each key into a unique number which is known as hash value.\n",
        "\n",
        "- This hash value will decide where the value will be stored in the memory.\n",
        "\n",
        "- Hash table makes searching, adding, deleting data very quickly.\n",
        "\n",
        " A hash table is related to a dictionary because in python dictionaries are implemented using hash table. When we create a key-value pair in a dictionary, Python runs the hash function on the key, which decides the location of the key in the memory. Because of the hashing process, dictionary lookups are really fast (we don't have to search the items one by one).\n"
      ],
      "metadata": {
        "id": "EKmhc69ZsMjY"
      }
    },
    {
      "cell_type": "markdown",
      "source": [
        "9.  Can lists contain different data types in Python?\n",
        "\n",
        " Yes, Lists are a collection of heterogenous items. We can store integers, floats, booleans in a list and even a list because lists are dynamic in nature.\n",
        "```python\n",
        "my_list = [1,2,3,['simar',2],True]\n",
        "print(my_list)\n",
        "```\n"
      ],
      "metadata": {
        "id": "wpvgx1glywLy"
      }
    },
    {
      "cell_type": "markdown",
      "source": [
        "10. Explain why strings are immutable in Python?\n",
        "- Save Memory -> Python uses the same string in memory if it already exists.\n",
        "\n",
        "```python\n",
        "\n",
        "a = \"hello\"\n",
        "\n",
        "b = \"hello\"\n",
        "\n",
        "print(a is b ) # True both point to the same memory location\n",
        "\n",
        "```\n",
        "\n",
        "- For keys in dictionaries -> keys in dictionaries should be immutable(cannot be changed), that is why strings can be used as keys in a dictionary.\n",
        "```python\n",
        "my_dict = {\"name\": \"Simar\"}\n",
        "print(my_dict[\"name\"])  # Works because \"name\" is immutable\n",
        "```\n",
        "\n",
        "- Less prone to Errors -> Strings, being immutable, are less prone to errors.\n",
        "\n",
        "- Easy to handle -> Since strings never change, Python doesn't need to track updates → this makes processing faster and simpler.\n",
        "\n"
      ],
      "metadata": {
        "id": "TkE1zgqc0R83"
      }
    },
    {
      "cell_type": "markdown",
      "source": [
        "11. What advantages do dictionaries offer over lists for certain tasks?\n",
        "\n",
        "- Fast Lookups ->\n",
        "\n",
        " Finding an element in a list means checking each item in the list one by one(Slower approach).\n",
        "\n",
        " On the other hand, lookups in dictionaries are fast because we just need keys to find the corresponding value.\n",
        "\n",
        " ```python\n",
        "\n",
        " my_list = [\"simar\",\"stefan\",\"caroline\"]\n",
        "print(\"caroline\" in my_list)           # slower lookup\n",
        "my_dict = {\"name\":\"simar\",\"age\":20}\n",
        "print(my_dict[\"age\"])                  # faster lookup\n",
        "```\n",
        "- Better Data representation ->\n",
        "\n",
        " Data in dictionaries is stored in the form of key-value pairs, which makes it more readable and easy to understand.\n",
        "\n",
        " for example, a Phonebook etc.\n",
        "\n",
        "```python\n",
        "\n",
        "my_phonebook = {\"simar\":232342,\"hariman\":5353655}\n",
        "\n",
        "print(my_phonebook[\"hariman\"])\n",
        "\n",
        "```\n",
        "\n",
        "- Duplicate items ->\n",
        "\n",
        " A list allow duplicate items whereas, dictionary does not allow.\n",
        "\n",
        " Each key is unique.\n",
        "\n",
        "\n",
        "\n",
        "- Efficient Updates ->\n",
        "\n",
        "  Updates in lists require finding the element first, which is a slower approach.\n",
        "\n",
        "  On the other hand, we just need the key to update the element.\n",
        "\n",
        "\n"
      ],
      "metadata": {
        "id": "nT4b-YG4b_Mg"
      }
    },
    {
      "cell_type": "markdown",
      "source": [
        "12. Describe a scenario where using a tuple would be preferable over a list?\n",
        "\n",
        " Tuple is more preferable in cases where data should not be changed after creation.\n",
        "\n",
        " Tuples does not allow accidental modification.\n",
        "\n",
        " Tuples are faster and uses less memory.\n",
        "\n",
        " Case - EMPLOYEE RECORDS\n",
        "```python\n",
        "employee = (\"EMP101\", \"Simar\", \"HR\")\n",
        "#\"EMP101\" is employee id\n",
        "# \"simar\" employee name\n",
        "# \"HR\" position\n",
        "```\n",
        "Here using tuple is more preferable because python will prevent accidental modification. Hence, Data integrity is maintained."
      ],
      "metadata": {
        "id": "DgIOM8ctg9qG"
      }
    },
    {
      "cell_type": "markdown",
      "source": [
        "13.  How do sets handle duplicate values in Python?\n",
        "- If you try to add duplicate values in a set, Python automatically removes them.\n",
        "```python\n",
        "my_set = {1,2,3,4,4,4,4}\n",
        "print(my_set)\n",
        "output -\n",
        "{1, 2, 3, 4}\n",
        "```\n",
        "- If we try to add any element using .add() and the element already exists in the set, Python ignores it.\n",
        "```python\n",
        "my_set = {1,2,3,4}\n",
        "my_set.add(4)\n",
        "print(my_set)\n",
        "```\n"
      ],
      "metadata": {
        "id": "b7JUs_bOjy9i"
      }
    },
    {
      "cell_type": "markdown",
      "source": [
        "14. How does the “in” keyword work differently for lists and dictionaries?\n",
        "\n",
        " \"in\" in Lists -\n",
        "\n",
        " Checks if a value exists in the list.\n",
        "\n",
        " Search for the value one by one.\n",
        "```python\n",
        "my_list = [\"simar\",\"hariman\",\"ramneet\"]\n",
        "print(\"ramneet\" in my_list)   # True\n",
        "print(\"stefan\" in my_list)   # False\n",
        "```\n",
        "\"in\" in Dictionary -\n",
        "\n",
        " Checks for the key not the value.\n",
        "```python\n",
        "my_dict = {\"name\":\"simar\", \"age\":20}\n",
        "print(my_dict[\"name\"])\n",
        "print(my_dict[\"simar\"])\n",
        "Output -\n",
        "simar\n",
        "ERROR!\n",
        "Traceback (most recent call last):\n",
        "  File \"<main.py>\", line 3, in <module>\n",
        "KeyError: 'simar'\n",
        "```\n"
      ],
      "metadata": {
        "id": "i868TGC_mIi3"
      }
    },
    {
      "cell_type": "markdown",
      "source": [
        "15. Can you modify the elements of a tuple? Explain why or why not?\n",
        "\n",
        " Tuples are mutable:\n",
        "\n",
        " Elements cannot be changed once created. Modification, updation, or removal of data is not allowed.\n",
        "\n",
        " Data integrity:\n",
        "  \n",
        " Immutability ensures data integrity, which means data remains safe from accidental changes.\n",
        "\n",
        " Tuples can be used as a key in a dictionary because they are immutable."
      ],
      "metadata": {
        "id": "_onDvknQoCrh"
      }
    },
    {
      "cell_type": "markdown",
      "source": [
        "16 .What is a nested dictionary, and give an example of its use case?\n",
        "\n",
        " Nested dictionary means dictionary inside another dictionary.\n",
        "\n",
        " Use case:\n",
        "```python\n",
        "Employee_details = {\n",
        "    \"EMP1\":{\"name\":\"simar\",\"salary\":400000},\n",
        "    \"EMP2\":{\"name\":\"ramneet\",\"salary\":300000}\n",
        "}\n",
        "print(Employee_details[\"EMP1\"][\"salary\"])\n",
        "print(Employee_details[\"EMP2\"][\"name\"])\n",
        "```"
      ],
      "metadata": {
        "id": "X30s5rwXtrbC"
      }
    },
    {
      "cell_type": "markdown",
      "source": [
        "17. Describe the time complexity of accessing elements in a dictionary?\n",
        "\n",
        " Accessing elements in a dictionary in Python has:\n",
        "\n",
        "- Average case: O(1) : Constant time, because dictionaries use a hash table for key lookups.\n",
        "\n",
        "- Worst case: O(n) : Happens rarely, only when many keys have the same hash value (hash collision) and Python has to search through them linearly.\n"
      ],
      "metadata": {
        "id": "g12lquKyvfJK"
      }
    },
    {
      "cell_type": "markdown",
      "source": [
        "18. In what situations are lists preferred over dictionaries?\n",
        "\n",
        "* Order -> Lists keep the elements in a sequence(ordered), so we can use lists over dictionaries when we want to preserve the order of elements.\n",
        "\n",
        "* Contains duplicates -> Lists allow duplicate items, whereas in a dictionary, every key must be unique.\n",
        "\n",
        "* Need only values -> When we just want to store a collection of items, like numbers or names, a list is more preferrable.\n",
        "\n",
        "* Sequence operations -> Lists are more preferable when we want to do sequence operations like Appending, slicing, etc.\n",
        "\n",
        "* Index access -> Lists allow access to elements through indexing.\n",
        "```python\n",
        "my_list = [1,2,4,5,56,8]\n",
        "print(my_list[5])\n",
        "```"
      ],
      "metadata": {
        "id": "2no87WiSwvzv"
      }
    },
    {
      "cell_type": "markdown",
      "source": [
        "19. Why are dictionaries considered unordered, and how does that affect data retrieval?\n",
        "\n",
        "* Items in dictionaries are not accessed by index, but they are accessed by key name. Items in dictionaries are stored by the hash value, not by the index number.\n",
        "* Data retrieval -\n",
        "\n",
        " Data retrieval is unaffected because you can access the value by the key name, not by the index number.\n",
        "```python\n",
        "student = {\"name\": \"Simar\", \"age\": 20}\n",
        " print(student[\"age\"])   # 20\n",
        "```\n",
        "* And if the key does not exist, Python raises a key error, whereas in the absence of a value, Python raises an index error."
      ],
      "metadata": {
        "id": "fYOKJYo12ABN"
      }
    },
    {
      "cell_type": "markdown",
      "source": [
        "20. Explain the difference between a list and a dictionary in terms of data retrieval?\n",
        "\n",
        "List -\n",
        "\n",
        "Data is retrieved through index positions.\n",
        "\n",
        "Index positions is started from zero.\n",
        "```python\n",
        "names = [\"simar\",\"ramneet\",\"raman\"]\n",
        "print(names[0])\n",
        "print(names[1])\n",
        "print(names[6])\n",
        "Output -\n",
        "simar\n",
        "ramneet\n",
        "ERROR!\n",
        "Traceback (most recent call last):\n",
        "  File \"<main.py>\", line 4, in <module>\n",
        "IndexError: list index out of range\n",
        "```\n",
        "If the element does not exists, Python raises a index error.\n",
        "\n",
        "Time Complexity: O(1) (direct access by position).\n",
        "\n",
        "Dictionary -\n",
        "\n",
        "Data is retrived through key positions not by index positions.\n",
        "```python\n",
        "student = {\"name\":\"simar\",\"age\":20}\n",
        "print(student[\"name\"])\n",
        "print(student[\"profession\"])\n",
        "Output-\n",
        "simar\n",
        "ERROR!\n",
        "Traceback (most recent call last):\n",
        "  File \"<main.py>\", line 3, in <module>\n",
        "KeyError: 'profession'\n",
        "```\n",
        "If the element does not exists , Python raises a key error.\n",
        "\n",
        "Time Complexity: O(1) on average (uses hashing).\n",
        "\n",
        "\n",
        "\n",
        "\n",
        "\n"
      ],
      "metadata": {
        "id": "GeXv1x0g7zOd"
      }
    },
    {
      "cell_type": "code",
      "execution_count": null,
      "metadata": {
        "colab": {
          "base_uri": "https://localhost:8080/"
        },
        "id": "iRCQLIj0D_o3",
        "outputId": "08ee95ad-9caf-4cc5-c2c0-24be6e17c5c5"
      },
      "outputs": [
        {
          "output_type": "stream",
          "name": "stdout",
          "text": [
            "Simar\n"
          ]
        }
      ],
      "source": [
        "# 1. Write a code to create a string with your name and print it\n",
        "my_string = \"Simar\"\n",
        "print(my_string)"
      ]
    },
    {
      "cell_type": "code",
      "source": [
        "# 2. Write a code to find the length of the string \"Hello World\"\n",
        "my_string = \"Hello World\"\n",
        "print(len(my_string))"
      ],
      "metadata": {
        "colab": {
          "base_uri": "https://localhost:8080/"
        },
        "id": "-x9zhkpAEOND",
        "outputId": "6d34b38e-8058-46f4-8b13-a2eed741c542"
      },
      "execution_count": null,
      "outputs": [
        {
          "output_type": "stream",
          "name": "stdout",
          "text": [
            "11\n"
          ]
        }
      ]
    },
    {
      "cell_type": "code",
      "source": [
        "# 3. Write a code to slice the first 3 characters from the string \"Python Programming\"\n",
        "my_string = \"Python Programming\"\n",
        "print(my_string[:3])"
      ],
      "metadata": {
        "colab": {
          "base_uri": "https://localhost:8080/"
        },
        "id": "WTY6BpJyEZBq",
        "outputId": "421fc502-e7aa-4682-e0e8-ce415182a90f"
      },
      "execution_count": null,
      "outputs": [
        {
          "output_type": "stream",
          "name": "stdout",
          "text": [
            "Pyt\n"
          ]
        }
      ]
    },
    {
      "cell_type": "code",
      "source": [
        "# 4. Write a code to convert the string \"hello\" to uppercase\n",
        "my_string = \"hello\"\n",
        "print(my_string.upper())"
      ],
      "metadata": {
        "colab": {
          "base_uri": "https://localhost:8080/"
        },
        "id": "I9K6zUuKE2Y-",
        "outputId": "6ce0df7e-d0e0-46f5-e9b7-163ead3ad5e2"
      },
      "execution_count": null,
      "outputs": [
        {
          "output_type": "stream",
          "name": "stdout",
          "text": [
            "HELLO\n"
          ]
        }
      ]
    },
    {
      "cell_type": "code",
      "source": [
        "# 5. Write a code to replace the word \"apple\" with \"orange\" in the string \"I like apple\"\n",
        "my_string = \"I like apple\"\n",
        "new_string = my_string.replace(\"apple\",\"orange\")\n",
        "print(new_string)"
      ],
      "metadata": {
        "id": "OcSint0_FJyK",
        "colab": {
          "base_uri": "https://localhost:8080/"
        },
        "outputId": "0d04e1e8-9f41-4f02-e0c1-ff92e9acca3a"
      },
      "execution_count": null,
      "outputs": [
        {
          "output_type": "stream",
          "name": "stdout",
          "text": [
            "I like orange\n"
          ]
        }
      ]
    },
    {
      "cell_type": "code",
      "source": [
        "# 6.  Write a code to create a list with numbers 1 to 5 and print it\n",
        "my_list = []\n",
        "print([i for i in range(1,6)])"
      ],
      "metadata": {
        "colab": {
          "base_uri": "https://localhost:8080/"
        },
        "id": "9Hv8o5RBLnKu",
        "outputId": "b43a6583-41e5-4802-9a54-98f7dd524bf7"
      },
      "execution_count": null,
      "outputs": [
        {
          "output_type": "stream",
          "name": "stdout",
          "text": [
            "[1, 2, 3, 4, 5]\n"
          ]
        }
      ]
    },
    {
      "cell_type": "code",
      "source": [
        "# 7. Write a code to append the number 10 to the list [1, 2, 3, 4]\n",
        "my_list = [1,2,3,4]\n",
        "my_list.append(10)\n",
        "print(my_list)"
      ],
      "metadata": {
        "colab": {
          "base_uri": "https://localhost:8080/"
        },
        "id": "2zzox5aTMWTt",
        "outputId": "748cddfa-e17a-4dba-a819-a166d6fb64f9"
      },
      "execution_count": null,
      "outputs": [
        {
          "output_type": "stream",
          "name": "stdout",
          "text": [
            "[1, 2, 3, 4, 10]\n"
          ]
        }
      ]
    },
    {
      "cell_type": "code",
      "source": [
        "# 8. Write a code to remove the number 3 from the list [1, 2, 3, 4, 5]\n",
        "my_list = [1,2,3,4,5]\n",
        "my_list.remove(3)\n",
        "print(my_list)"
      ],
      "metadata": {
        "colab": {
          "base_uri": "https://localhost:8080/"
        },
        "id": "kGczLvzgMgEk",
        "outputId": "9c53394e-e934-420e-ff0f-5366b4751622"
      },
      "execution_count": null,
      "outputs": [
        {
          "output_type": "stream",
          "name": "stdout",
          "text": [
            "[1, 2, 4, 5]\n"
          ]
        }
      ]
    },
    {
      "cell_type": "code",
      "source": [
        "# 9.  Write a code to access the second element in the list ['a', 'b', 'c', 'd']\n",
        "my_list = ['a', 'b', 'c', 'd']\n",
        "my_list[1]"
      ],
      "metadata": {
        "colab": {
          "base_uri": "https://localhost:8080/",
          "height": 36
        },
        "id": "sb6CrmAvMsQc",
        "outputId": "51b7f034-9f88-4f79-b79d-4c3c99af23b9"
      },
      "execution_count": null,
      "outputs": [
        {
          "output_type": "execute_result",
          "data": {
            "text/plain": [
              "'b'"
            ],
            "application/vnd.google.colaboratory.intrinsic+json": {
              "type": "string"
            }
          },
          "metadata": {},
          "execution_count": 16
        }
      ]
    },
    {
      "cell_type": "code",
      "source": [
        "# 10. Write a code to reverse the list [10, 20, 30, 40, 50]\n",
        "my_list = [10,20,30,40,50]\n",
        "print(my_list[::-1])"
      ],
      "metadata": {
        "colab": {
          "base_uri": "https://localhost:8080/"
        },
        "id": "HXZma70uNF7_",
        "outputId": "e18054f8-b32c-42ec-a93f-5a488f874da6"
      },
      "execution_count": null,
      "outputs": [
        {
          "output_type": "stream",
          "name": "stdout",
          "text": [
            "[50, 40, 30, 20, 10]\n"
          ]
        }
      ]
    },
    {
      "cell_type": "code",
      "source": [
        "# 11.Write a code to create a tuple with the elements 100, 200, 300 and print it\n",
        "my_tuple = (100,200,300)\n",
        "print(my_tuple)"
      ],
      "metadata": {
        "colab": {
          "base_uri": "https://localhost:8080/"
        },
        "id": "E01K74dHNdme",
        "outputId": "c2fb162b-179b-4210-f00e-aaf5757fac2d"
      },
      "execution_count": null,
      "outputs": [
        {
          "output_type": "stream",
          "name": "stdout",
          "text": [
            "(100, 200, 300)\n"
          ]
        }
      ]
    },
    {
      "cell_type": "code",
      "source": [
        "# 12. Write a code to access the second-to-last element of the tuple ('red', 'green', 'blue', 'yellow')\n",
        "my_tuple = ('red', 'green', 'blue', 'yellow')\n",
        "print(my_tuple[-2])"
      ],
      "metadata": {
        "colab": {
          "base_uri": "https://localhost:8080/"
        },
        "id": "nROL2NkGNrsG",
        "outputId": "120c2d54-0107-4a10-923a-22c7774fc9b7"
      },
      "execution_count": null,
      "outputs": [
        {
          "output_type": "stream",
          "name": "stdout",
          "text": [
            "blue\n"
          ]
        }
      ]
    },
    {
      "cell_type": "code",
      "source": [
        "# 13. Write a code to find the minimum number in the tuple (10, 20, 5, 15)\n",
        "my_tuple = (10, 20, 5, 15)\n",
        "print(min(my_tuple))"
      ],
      "metadata": {
        "colab": {
          "base_uri": "https://localhost:8080/"
        },
        "id": "oNAT7x5BOZKY",
        "outputId": "dc67daf6-89d3-448e-a08b-e7a9508fd0d3"
      },
      "execution_count": null,
      "outputs": [
        {
          "output_type": "stream",
          "name": "stdout",
          "text": [
            "5\n"
          ]
        }
      ]
    },
    {
      "cell_type": "code",
      "source": [
        "# 14. Write a code to find the index of the element \"cat\" in the tuple ('dog', 'cat', 'rabbit').\n",
        "t = ('dog', 'cat', 'rabbit')\n",
        "t.index(\"cat\")"
      ],
      "metadata": {
        "colab": {
          "base_uri": "https://localhost:8080/"
        },
        "id": "xlKjizwM6zVI",
        "outputId": "57ebb98f-99f3-4138-a951-a5e5f7faf17d"
      },
      "execution_count": null,
      "outputs": [
        {
          "output_type": "execute_result",
          "data": {
            "text/plain": [
              "1"
            ]
          },
          "metadata": {},
          "execution_count": 1
        }
      ]
    },
    {
      "cell_type": "code",
      "source": [
        "# 15. Write a code to create a tuple containing three different fruits and check if \"kiwi\" is in it.\n",
        "my_tuple = (\"mango\",\"apple\",\"kiwi\")\n",
        "if \"kiwi\" in my_tuple:\n",
        "    print(\"Kiwi is in the tuple\")\n",
        "else:\n",
        "    print(\"Kiwi is not in the tuple\")"
      ],
      "metadata": {
        "colab": {
          "base_uri": "https://localhost:8080/"
        },
        "id": "e52jbkfb7CmT",
        "outputId": "db86af8f-a983-44cc-cdb0-29225492375e"
      },
      "execution_count": null,
      "outputs": [
        {
          "output_type": "stream",
          "name": "stdout",
          "text": [
            "Kiwi is in the tuple\n"
          ]
        }
      ]
    },
    {
      "cell_type": "code",
      "source": [
        "# 16. Write a code to create a set with the elements 'a', 'b', 'c' and print it.\n",
        "my_set = set()\n",
        "my_set.add(\"a\")\n",
        "my_set.add(\"b\")\n",
        "my_set.add(\"c\")\n",
        "print(my_set)"
      ],
      "metadata": {
        "colab": {
          "base_uri": "https://localhost:8080/"
        },
        "id": "WjtO_MGZ72kG",
        "outputId": "66a86830-a906-4ac0-ff76-c7d810cde250"
      },
      "execution_count": null,
      "outputs": [
        {
          "output_type": "stream",
          "name": "stdout",
          "text": [
            "{'c', 'a', 'b'}\n"
          ]
        }
      ]
    },
    {
      "cell_type": "code",
      "source": [
        "# 17. Write a code to clear all elements from the set {1, 2, 3, 4, 5}.\n",
        "my_set = {1,2,3,4,5}\n",
        "my_set.clear()\n",
        "print(my_set)\n"
      ],
      "metadata": {
        "colab": {
          "base_uri": "https://localhost:8080/"
        },
        "id": "-J5-y6N19oRf",
        "outputId": "e0c6a078-cd06-4ce7-c5c0-d6ba33be39bd"
      },
      "execution_count": null,
      "outputs": [
        {
          "output_type": "stream",
          "name": "stdout",
          "text": [
            "set()\n"
          ]
        }
      ]
    },
    {
      "cell_type": "code",
      "source": [
        "# 18. Write a code to remove the element 4 from the set {1, 2, 3, 4}.\n",
        "my_set = {1,2,3,4}\n",
        "my_set.remove(4)\n",
        "print(my_set)\n"
      ],
      "metadata": {
        "colab": {
          "base_uri": "https://localhost:8080/"
        },
        "id": "PVKvaQhv-DsS",
        "outputId": "63ccfce6-189f-4036-9a9e-70f71aa338b3"
      },
      "execution_count": null,
      "outputs": [
        {
          "output_type": "stream",
          "name": "stdout",
          "text": [
            "{1, 2, 3}\n"
          ]
        }
      ]
    },
    {
      "cell_type": "code",
      "source": [
        "# 19. Write a code to find the union of two sets {1, 2, 3} and {3, 4, 5}.\n",
        "s1 = {1,2,3}\n",
        "s2 = {3,4,5}\n",
        "print(s1.union(s2))\n"
      ],
      "metadata": {
        "id": "TwXu41on-udB",
        "colab": {
          "base_uri": "https://localhost:8080/"
        },
        "outputId": "cb45c437-2bbc-466c-cfba-6afe879a6472"
      },
      "execution_count": null,
      "outputs": [
        {
          "output_type": "stream",
          "name": "stdout",
          "text": [
            "{1, 2, 3, 4, 5}\n"
          ]
        }
      ]
    },
    {
      "cell_type": "code",
      "source": [
        "# 20. Write a code to find the intersection of two sets {1, 2, 3} and {2, 3, 4}.\n",
        "s1 = {1,2,3}\n",
        "s2 = {3,4,5}\n",
        "intersection_set = s1.intersection(s2)\n",
        "print(intersection_set)"
      ],
      "metadata": {
        "id": "zc32zhYik_zs",
        "colab": {
          "base_uri": "https://localhost:8080/"
        },
        "outputId": "79a60892-ce23-4eaa-a022-12345269cc02"
      },
      "execution_count": null,
      "outputs": [
        {
          "output_type": "stream",
          "name": "stdout",
          "text": [
            "{3}\n"
          ]
        }
      ]
    },
    {
      "cell_type": "code",
      "source": [
        "# 21. Write a code to create a dictionary with the keys \"name\", \"age\", and \"city\", and print it.\n",
        "my_dict = {\"name\":\"Simar\",\"age\":20,\"city\":\"Delhi\"}\n",
        "print(my_dict)"
      ],
      "metadata": {
        "colab": {
          "base_uri": "https://localhost:8080/"
        },
        "id": "Wrj_l4mYF25q",
        "outputId": "c77dbc94-2b78-4b6f-e4ba-f381d959c73b"
      },
      "execution_count": null,
      "outputs": [
        {
          "output_type": "stream",
          "name": "stdout",
          "text": [
            "{'name': 'Simar', 'age': 20, 'city': 'Delhi'}\n"
          ]
        }
      ]
    },
    {
      "cell_type": "code",
      "source": [
        "#22. Write a code to add a new key-value pair \"country\": \"USA\" to the dictionary {'name': 'John', 'age': 25}.\n",
        "my_dict = {'name': 'John', 'age': 25}\n",
        "my_dict[\"country\"] = \"USA\"\n",
        "print(my_dict)"
      ],
      "metadata": {
        "colab": {
          "base_uri": "https://localhost:8080/"
        },
        "id": "_7RSagUYF-Md",
        "outputId": "a6f15f86-30ba-4939-856f-722a2b0fe1d2"
      },
      "execution_count": null,
      "outputs": [
        {
          "output_type": "stream",
          "name": "stdout",
          "text": [
            "{'name': 'John', 'age': 25, 'country': 'USA'}\n"
          ]
        }
      ]
    },
    {
      "cell_type": "code",
      "source": [
        "# 23.  Write a code to access the value associated with the key \"name\" in the dictionary {'name': 'Alice', 'age': 30}.\n",
        "my_dict = {'name': 'Alice', 'age': 30}\n",
        "print(my_dict.get(\"name\"))"
      ],
      "metadata": {
        "colab": {
          "base_uri": "https://localhost:8080/"
        },
        "id": "FQxru4E3GNkN",
        "outputId": "3e50b30f-f6e6-41f7-d104-da0e605f28e7"
      },
      "execution_count": null,
      "outputs": [
        {
          "output_type": "stream",
          "name": "stdout",
          "text": [
            "Alice\n"
          ]
        }
      ]
    },
    {
      "cell_type": "code",
      "source": [
        "# 24. Write a code to remove the key \"age\" from the dictionary {'name': 'Bob', 'age': 22, 'city': 'New York'}\n",
        "my_dict = {'name': 'Bob', 'age': 22, 'city': 'New York'}\n",
        "my_dict.pop(\"age\")\n",
        "print(my_dict)"
      ],
      "metadata": {
        "colab": {
          "base_uri": "https://localhost:8080/"
        },
        "id": "PhdZwW8JGgMB",
        "outputId": "ff22492f-3130-4c04-d51f-bccf72ad9aa0"
      },
      "execution_count": null,
      "outputs": [
        {
          "output_type": "stream",
          "name": "stdout",
          "text": [
            "{'name': 'Bob', 'city': 'New York'}\n"
          ]
        }
      ]
    },
    {
      "cell_type": "code",
      "source": [
        "# 25. Write a code to check if the key \"city\" exists in the dictionary {'name': 'Alice', 'city': 'Paris'}.\n",
        "my_dict = {'name': 'Alice', 'city': 'Paris'}\n",
        "if \"city\" in my_dict:\n",
        "    print(\"City exists in the dictionary\")\n",
        "else:\n",
        "    print(\"City does not exist in the dictionary\")"
      ],
      "metadata": {
        "colab": {
          "base_uri": "https://localhost:8080/"
        },
        "id": "i3BHCRDrGwUL",
        "outputId": "fd99cad5-41a6-431b-fdcb-1053e526e058"
      },
      "execution_count": null,
      "outputs": [
        {
          "output_type": "stream",
          "name": "stdout",
          "text": [
            "City exists in the dictionary\n"
          ]
        }
      ]
    },
    {
      "cell_type": "code",
      "source": [
        "# 26. Write a code to create a list, a tuple, and a dictionary, and print them all\n",
        "my_list = [1,2,4,5]\n",
        "my_tuple = (1,2,3,4)\n",
        "my_dict = {\"name\":\"Simar\",\"age\":20}\n",
        "print(my_list)\n",
        "print(my_tuple)\n",
        "print(my_dict)"
      ],
      "metadata": {
        "colab": {
          "base_uri": "https://localhost:8080/"
        },
        "id": "TYOln7-GG5zR",
        "outputId": "6470f9ab-6897-4846-e36c-d33c8a99efb8"
      },
      "execution_count": null,
      "outputs": [
        {
          "output_type": "stream",
          "name": "stdout",
          "text": [
            "[1, 2, 4, 5]\n",
            "(1, 2, 3, 4)\n",
            "{'name': 'Simar', 'age': 20}\n"
          ]
        }
      ]
    },
    {
      "cell_type": "code",
      "source": [
        "# 27. Write a code to create a list of 5 random numbers between 1 and 100, sort it in ascending order, and print the result.(replaced)\n",
        "import random\n",
        "my_list = []\n",
        "for i in range(1,6):\n",
        "    number = random.randint(1,100)\n",
        "    my_list.append(number)\n",
        "print(\"BEFORE SORTING\")\n",
        "print(my_list)\n",
        "print(\"AFTER SORTING\")\n",
        "my_list.sort()\n",
        "print(my_list)\n"
      ],
      "metadata": {
        "colab": {
          "base_uri": "https://localhost:8080/"
        },
        "id": "3ZvjhdiyHjNN",
        "outputId": "13cc0c79-cd04-4ae3-f8a7-e681b82e327b"
      },
      "execution_count": null,
      "outputs": [
        {
          "output_type": "stream",
          "name": "stdout",
          "text": [
            "BEFORE SORTING\n",
            "[38, 91, 11, 15, 30]\n",
            "AFTER SORTING\n",
            "[11, 15, 30, 38, 91]\n"
          ]
        }
      ]
    },
    {
      "cell_type": "code",
      "source": [
        "# 28.  Write a code to create a list with strings and print the element at the third index.\n",
        "my_list = [\"apple\",\"simar\",\"moon\",\"star\"]\n",
        "print(my_list[3])"
      ],
      "metadata": {
        "colab": {
          "base_uri": "https://localhost:8080/"
        },
        "id": "gEGr3XmDJvp3",
        "outputId": "166d1e56-158e-454d-b967-935221a388d2"
      },
      "execution_count": null,
      "outputs": [
        {
          "output_type": "stream",
          "name": "stdout",
          "text": [
            "star\n"
          ]
        }
      ]
    },
    {
      "cell_type": "code",
      "source": [
        "# 29.  Write a code to combine two dictionaries into one and print the result.\n",
        "my_dict1 = {\"name\":\"simar\",\"age\":20}\n",
        "my_dict2 = {\"fav_colour\":\"red\",\"profession\":\"student\"}\n",
        "my_dict1.update(my_dict2)\n",
        "print(my_dict1)"
      ],
      "metadata": {
        "colab": {
          "base_uri": "https://localhost:8080/"
        },
        "id": "ANNJrM2nKKi7",
        "outputId": "6a0d7ae8-e3e6-424c-f0b2-df4214d806a5"
      },
      "execution_count": null,
      "outputs": [
        {
          "output_type": "stream",
          "name": "stdout",
          "text": [
            "{'name': 'simar', 'age': 20, 'fav_colour': 'red', 'profession': 'student'}\n"
          ]
        }
      ]
    },
    {
      "cell_type": "code",
      "source": [
        "# 30. Write a code to convert a list of strings into a set\n",
        "my_list = [\"simar\",\"simar\",\"apple\"]\n",
        "s = set(my_list)\n",
        "print(s)"
      ],
      "metadata": {
        "colab": {
          "base_uri": "https://localhost:8080/"
        },
        "id": "866gUoWNLIVt",
        "outputId": "3e4002c0-ed5b-4502-9016-50b1b7e505b0"
      },
      "execution_count": null,
      "outputs": [
        {
          "output_type": "stream",
          "name": "stdout",
          "text": [
            "{'apple', 'simar'}\n"
          ]
        }
      ]
    }
  ]
}